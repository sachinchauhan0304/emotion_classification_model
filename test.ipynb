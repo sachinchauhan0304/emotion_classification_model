{
 "cells": [
  {
   "cell_type": "code",
   "execution_count": 6,
   "id": "193f58aa-716a-4d23-a04f-bcfbbf36c897",
   "metadata": {},
   "outputs": [],
   "source": [
    "import librosa\n",
    "import numpy as np\n",
    "import tensorflow as tf\n",
    "import pickle\n",
    "import os\n",
    "\n",
    "# === Load Model & Label Encoder ===\n",
    "model = tf.keras.models.load_model(\"emotion_gru_attention_model.h5\", compile=False)\n",
    "\n",
    "with open(\"label_encoder.pkl\", \"rb\") as f:\n",
    "    label_encoder = pickle.load(f)\n",
    "\n",
    "# === Prediction Function ===\n",
    "def predict_emotion(audio_path, n_mfcc=40, max_pad_len=174):\n",
    "    if not os.path.exists(audio_path):\n",
    "        print(\"❌ File not found:\", audio_path)\n",
    "        return None\n",
    "\n",
    "    try:\n",
    "        y, sr = librosa.load(audio_path, res_type='kaiser_fast')\n",
    "        mfcc = librosa.feature.mfcc(y=y, sr=sr, n_mfcc=n_mfcc)\n",
    "\n",
    "        if mfcc.shape[1] < max_pad_len:\n",
    "            pad_width = max_pad_len - mfcc.shape[1]\n",
    "            mfcc = np.pad(mfcc, pad_width=((0, 0), (0, pad_width)), mode='constant')\n",
    "        else:\n",
    "            mfcc = mfcc[:, :max_pad_len]\n",
    "\n",
    "        mfcc = np.transpose(mfcc[np.newaxis, ...], (0, 2, 1))\n",
    "\n",
    "        prediction = model.predict(mfcc)\n",
    "        pred_index = np.argmax(prediction)\n",
    "        pred_label = label_encoder.inverse_transform([pred_index])[0]\n",
    "\n",
    "        print(f\"🎤 Predicted Emotion: **{pred_label}**\")\n",
    "        return pred_label\n",
    "\n",
    "    except Exception as e:\n",
    "        print(\"❌ Error loading audio:\", str(e))\n",
    "        return None\n"
   ]
  },
  {
   "cell_type": "code",
   "execution_count": 12,
   "id": "9e364acf-63a1-4ff3-92ea-233fc70276c4",
   "metadata": {},
   "outputs": [
    {
     "name": "stdout",
     "output_type": "stream",
     "text": [
      "1/1 [==============================] - 0s 42ms/step\n",
      "🎤 Predicted Emotion: **fearful**\n"
     ]
    },
    {
     "data": {
      "text/plain": [
       "'fearful'"
      ]
     },
     "execution_count": 12,
     "metadata": {},
     "output_type": "execute_result"
    }
   ],
   "source": [
    "# Example path to your audio file\n",
    "test_file = \"Ravdess/Actor_01/03-02-06-02-02-02-01.wav\"  # change this to your test file\n",
    "\n",
    "predict_emotion(test_file)\n"
   ]
  }
 ],
 "metadata": {
  "kernelspec": {
   "display_name": "Python (myenv)",
   "language": "python",
   "name": "myenv"
  },
  "language_info": {
   "codemirror_mode": {
    "name": "ipython",
    "version": 3
   },
   "file_extension": ".py",
   "mimetype": "text/x-python",
   "name": "python",
   "nbconvert_exporter": "python",
   "pygments_lexer": "ipython3",
   "version": "3.10.13"
  }
 },
 "nbformat": 4,
 "nbformat_minor": 5
}
